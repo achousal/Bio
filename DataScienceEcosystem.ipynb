{
 "cells": [
  {
   "cell_type": "markdown",
   "id": "491624e5",
   "metadata": {},
   "source": [
    "# Data Science tools and Ecosystem\n"
   ]
  },
  {
   "cell_type": "markdown",
   "id": "0ee8fb8a",
   "metadata": {},
   "source": [
    "In this notebook, Data Science Tools and Ecosystem are summarized."
   ]
  },
  {
   "cell_type": "markdown",
   "id": "3e35c461",
   "metadata": {},
   "source": [
    "### Objectives: <br>\n",
    "* List popular languages for Data Science.\n",
    "* Try diferent cell types\n",
    "* Learn markdown formating"
   ]
  },
  {
   "cell_type": "markdown",
   "id": "fb5bb451",
   "metadata": {},
   "source": [
    "Some of the popular languages that Data Scientists use are: <br>\n",
    "<br>1. Python\n",
    "<br>2. R\n",
    "<br>3. SQL"
   ]
  },
  {
   "cell_type": "markdown",
   "id": "4559a029",
   "metadata": {},
   "source": [
    "Some of the commonly used libraries used by Data Scientists include: <br>\n",
    "<br>1. Pandas\n",
    "<br>2. NumPy\n",
    "<br>3. SciPy"
   ]
  },
  {
   "cell_type": "markdown",
   "id": "bdb993eb",
   "metadata": {},
   "source": [
    "| Data Science Tools |\n",
    "|:------:|\n",
    "| Rstudio   |\n",
    "| Anaconda   |\n",
    "| vsCode   |"
   ]
  },
  {
   "cell_type": "markdown",
   "id": "e190d5c8",
   "metadata": {},
   "source": [
    "### Below are a few examples of evaluating arithmetic expressions in Python <br>\n"
   ]
  },
  {
   "cell_type": "code",
   "execution_count": 6,
   "id": "94bbf4fd",
   "metadata": {},
   "outputs": [
    {
     "data": {
      "text/plain": [
       "17"
      ]
     },
     "execution_count": 6,
     "metadata": {},
     "output_type": "execute_result"
    }
   ],
   "source": [
    "#This a simple arithmetic expression to mutiply then add integers\n",
    "(3*4)+5"
   ]
  },
  {
   "cell_type": "code",
   "execution_count": 5,
   "id": "1ced782e",
   "metadata": {},
   "outputs": [
    {
     "data": {
      "text/plain": [
       "3.3333333333333335"
      ]
     },
     "execution_count": 5,
     "metadata": {},
     "output_type": "execute_result"
    }
   ],
   "source": [
    "#This will convert 200 minutes to hours by diving by 60\n",
    "200/60"
   ]
  }
 ],
 "metadata": {
  "kernelspec": {
   "display_name": "Python 3 (ipykernel)",
   "language": "python",
   "name": "python3"
  },
  "language_info": {
   "codemirror_mode": {
    "name": "ipython",
    "version": 3
   },
   "file_extension": ".py",
   "mimetype": "text/x-python",
   "name": "python",
   "nbconvert_exporter": "python",
   "pygments_lexer": "ipython3",
   "version": "3.11.5"
  }
 },
 "nbformat": 4,
 "nbformat_minor": 5
}
