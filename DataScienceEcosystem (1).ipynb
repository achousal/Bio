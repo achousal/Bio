{
 "cells": [
  {
   "cell_type": "markdown",
   "id": "c75f185c",
   "metadata": {},
   "source": [
    "# Data Science tools and Ecosystem\n"
   ]
  },
  {
   "cell_type": "markdown",
   "id": "d22fa529",
   "metadata": {},
   "source": [
    "In this notebook, Data Science Tools and Ecosystem are summarized."
   ]
  },
  {
   "cell_type": "markdown",
   "id": "8fbf8c5f",
   "metadata": {},
   "source": [
    "### Objectives: <br>\n",
    "* List popular languages for Data Science.\n",
    "* Try diferent cell types\n",
    "* Learn markdown formating"
   ]
  },
  {
   "cell_type": "markdown",
   "id": "cd3ae5e0",
   "metadata": {},
   "source": [
    "Some of the popular languages that Data Scientists use are: <br>\n",
    "<br>1. Python\n",
    "<br>2. R\n",
    "<br>3. SQL"
   ]
  },
  {
   "cell_type": "markdown",
   "id": "37ea9ff6",
   "metadata": {},
   "source": [
    "Some of the commonly used libraries used by Data Scientists include: <br>\n",
    "<br>1. Pandas\n",
    "<br>2. NumPy\n",
    "<br>3. SciPy"
   ]
  },
  {
   "cell_type": "markdown",
   "id": "73e0f5a7",
   "metadata": {},
   "source": [
    "| Data Science Tools |\n",
    "|:------:|\n",
    "| Rstudio   |\n",
    "| Anaconda   |\n",
    "| vsCode   |"
   ]
  },
  {
   "cell_type": "markdown",
   "id": "36902629",
   "metadata": {},
   "source": [
    "### Below are a few examples of evaluating arithmetic expressions in Python <br>\n"
   ]
  },
  {
   "cell_type": "code",
   "execution_count": 6,
   "id": "82412d87",
   "metadata": {},
   "outputs": [
    {
     "data": {
      "text/plain": [
       "17"
      ]
     },
     "execution_count": 6,
     "metadata": {},
     "output_type": "execute_result"
    }
   ],
   "source": [
    "#This a simple arithmetic expression to mutiply then add integers\n",
    "(3*4)+5"
   ]
  },
  {
   "cell_type": "code",
   "execution_count": 5,
   "id": "57eaf240",
   "metadata": {
    "scrolled": true
   },
   "outputs": [
    {
     "data": {
      "text/plain": [
       "3.3333333333333335"
      ]
     },
     "execution_count": 5,
     "metadata": {},
     "output_type": "execute_result"
    }
   ],
   "source": [
    "#This will convert 200 minutes to hours by diving by 60\n",
    "200/60"
   ]
  },
  {
   "cell_type": "markdown",
   "id": "1735e4ff",
   "metadata": {},
   "source": [
    "## Author <br>\n",
    "Andres Chousal"
   ]
  }
 ],
 "metadata": {
  "kernelspec": {
   "display_name": "Python 3 (ipykernel)",
   "language": "python",
   "name": "python3"
  },
  "language_info": {
   "codemirror_mode": {
    "name": "ipython",
    "version": 3
   },
   "file_extension": ".py",
   "mimetype": "text/x-python",
   "name": "python",
   "nbconvert_exporter": "python",
   "pygments_lexer": "ipython3",
   "version": "3.11.5"
  }
 },
 "nbformat": 4,
 "nbformat_minor": 5
}
